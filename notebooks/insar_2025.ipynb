{
 "cells": [
  {
   "cell_type": "code",
   "execution_count": null,
   "metadata": {},
   "outputs": [],
   "source": [
    "import matplotlib.pyplot as plt\n",
    "\n",
    "import pandas as pd\n",
    "from pathlib import Path\n",
    "\n",
    "import scipy.stats as stats\n",
    "import seaborn as sns\n",
    "\n",
    "from statsmodels.stats.anova import AnovaRM\n"
   ]
  },
  {
   "cell_type": "code",
   "execution_count": 58,
   "metadata": {},
   "outputs": [],
   "source": [
    "sns.set_style(\"darkgrid\")"
   ]
  },
  {
   "cell_type": "code",
   "execution_count": 48,
   "metadata": {},
   "outputs": [],
   "source": [
    "derivative_dir = Path(\"..\") / \"derivatives\"\n",
    "assert derivative_dir.exists()\n",
    "peaks_dir = derivative_dir / \"peaks\" / \"run-01\"\n",
    "\n",
    "df_qc = pd.read_csv(Path(peaks_dir / \"n1_troughs_QCR.csv\").resolve())\n",
    "df_ll = pd.read_csv(Path(peaks_dir / \"n1_troughs_pylossless.csv\"))\n",
    "df_prep = pd.read_csv(Path(peaks_dir / \"n1_troughs_pyprep.csv\"))\n",
    "df_raw = pd.read_csv(Path(peaks_dir / \"n1_troughs_raw.csv\"))"
   ]
  },
  {
   "cell_type": "code",
   "execution_count": 49,
   "metadata": {},
   "outputs": [],
   "source": [
    "for this_df in [df_qc, df_ll, df_prep, df_raw]:\n",
    "    this_df[\"identifier\"] = this_df[\"file\"].str.split(\"_proc\").str[0]"
   ]
  },
  {
   "cell_type": "markdown",
   "metadata": {},
   "source": [
    "$ N = "
   ]
  },
  {
   "cell_type": "code",
   "execution_count": 91,
   "metadata": {},
   "outputs": [
    {
     "data": {
      "text/html": [
       "<div>\n",
       "<style scoped>\n",
       "    .dataframe tbody tr th:only-of-type {\n",
       "        vertical-align: middle;\n",
       "    }\n",
       "\n",
       "    .dataframe tbody tr th {\n",
       "        vertical-align: top;\n",
       "    }\n",
       "\n",
       "    .dataframe thead th {\n",
       "        text-align: right;\n",
       "    }\n",
       "</style>\n",
       "<table border=\"1\" class=\"dataframe\">\n",
       "  <thead>\n",
       "    <tr style=\"text-align: right;\">\n",
       "      <th></th>\n",
       "      <th>identifier</th>\n",
       "      <th>method</th>\n",
       "      <th>snr</th>\n",
       "    </tr>\n",
       "  </thead>\n",
       "  <tbody>\n",
       "    <tr>\n",
       "      <th>0</th>\n",
       "      <td>phonemes_2027_20231218</td>\n",
       "      <td>pylossless</td>\n",
       "      <td>5.754663</td>\n",
       "    </tr>\n",
       "    <tr>\n",
       "      <th>1</th>\n",
       "      <td>phonemes_2043_20240328_114345</td>\n",
       "      <td>pylossless</td>\n",
       "      <td>13.137426</td>\n",
       "    </tr>\n",
       "    <tr>\n",
       "      <th>2</th>\n",
       "      <td>phonemes_2064_20240802_031713</td>\n",
       "      <td>pylossless</td>\n",
       "      <td>6.322542</td>\n",
       "    </tr>\n",
       "    <tr>\n",
       "      <th>3</th>\n",
       "      <td>phonemes_2033_20240117_043649</td>\n",
       "      <td>pylossless</td>\n",
       "      <td>4.749408</td>\n",
       "    </tr>\n",
       "    <tr>\n",
       "      <th>4</th>\n",
       "      <td>phonemes_2050_20240606_110702</td>\n",
       "      <td>pylossless</td>\n",
       "      <td>11.410212</td>\n",
       "    </tr>\n",
       "    <tr>\n",
       "      <th>...</th>\n",
       "      <td>...</td>\n",
       "      <td>...</td>\n",
       "      <td>...</td>\n",
       "    </tr>\n",
       "    <tr>\n",
       "      <th>123</th>\n",
       "      <td>phonemes_2029_20231221</td>\n",
       "      <td>pyPREP</td>\n",
       "      <td>20.177910</td>\n",
       "    </tr>\n",
       "    <tr>\n",
       "      <th>124</th>\n",
       "      <td>phonemes_2059_20240801_121559</td>\n",
       "      <td>pyPREP</td>\n",
       "      <td>13.173934</td>\n",
       "    </tr>\n",
       "    <tr>\n",
       "      <th>125</th>\n",
       "      <td>phonemes_2062_20240725_113431</td>\n",
       "      <td>pyPREP</td>\n",
       "      <td>18.113140</td>\n",
       "    </tr>\n",
       "    <tr>\n",
       "      <th>126</th>\n",
       "      <td>phonemes_2054_20240620_112330</td>\n",
       "      <td>pyPREP</td>\n",
       "      <td>9.816364</td>\n",
       "    </tr>\n",
       "    <tr>\n",
       "      <th>127</th>\n",
       "      <td>phonemes_2056_20240708_093753</td>\n",
       "      <td>pyPREP</td>\n",
       "      <td>21.984786</td>\n",
       "    </tr>\n",
       "  </tbody>\n",
       "</table>\n",
       "<p>128 rows × 3 columns</p>\n",
       "</div>"
      ],
      "text/plain": [
       "                        identifier      method        snr\n",
       "0           phonemes_2027_20231218  pylossless   5.754663\n",
       "1    phonemes_2043_20240328_114345  pylossless  13.137426\n",
       "2    phonemes_2064_20240802_031713  pylossless   6.322542\n",
       "3    phonemes_2033_20240117_043649  pylossless   4.749408\n",
       "4    phonemes_2050_20240606_110702  pylossless  11.410212\n",
       "..                             ...         ...        ...\n",
       "123         phonemes_2029_20231221      pyPREP  20.177910\n",
       "124  phonemes_2059_20240801_121559      pyPREP  13.173934\n",
       "125  phonemes_2062_20240725_113431      pyPREP  18.113140\n",
       "126  phonemes_2054_20240620_112330      pyPREP   9.816364\n",
       "127  phonemes_2056_20240708_093753      pyPREP  21.984786\n",
       "\n",
       "[128 rows x 3 columns]"
      ]
     },
     "execution_count": 91,
     "metadata": {},
     "output_type": "execute_result"
    }
   ],
   "source": [
    "df_1 = pd.merge(\n",
    "    df_ll[[\"identifier\", \"snr\"]],\n",
    "    df_qc[[\"identifier\", \"snr\"]],\n",
    "    on=\"identifier\",\n",
    "    how=\"inner\",\n",
    "    suffixes=(\"_ll\", \"_qc\")\n",
    ")\n",
    "\n",
    "df_2 = pd.merge(\n",
    "    df_raw[[\"identifier\", \"snr\"]],\n",
    "    df_prep[[\"identifier\", \"snr\"]],\n",
    "    on=\"identifier\",\n",
    "    how=\"inner\",\n",
    "    suffixes=(\"_raw\", \"_prep\")\n",
    ")\n",
    "\n",
    "df = pd.merge(\n",
    "    df_1, df_2, on=\"identifier\", how=\"inner\",\n",
    ")\n",
    "df = df.melt(\n",
    "    id_vars=\"identifier\",\n",
    "    var_name=\"method\",\n",
    "    value_name=\"snr\"\n",
    ")\n",
    "df[\"method\"] = df[\"method\"].replace({\"snr_ll\": \"pylossless\", \"snr_qc\": \"QCR\", \"snr_prep\": \"pyPREP\", \"snr_raw\": \"raw\"})\n",
    "df"
   ]
  },
  {
   "cell_type": "code",
   "execution_count": 92,
   "metadata": {},
   "outputs": [
    {
     "name": "stdout",
     "output_type": "stream",
     "text": [
      "               Anova\n",
      "====================================\n",
      "       F Value Num DF  Den DF Pr > F\n",
      "------------------------------------\n",
      "method  6.8191 3.0000 93.0000 0.0003\n",
      "====================================\n",
      "\n"
     ]
    }
   ],
   "source": [
    "aovrm = AnovaRM(df, depvar='snr', subject='identifier', within=['method'])\n",
    "res = aovrm.fit()\n",
    "print(res)"
   ]
  },
  {
   "cell_type": "code",
   "execution_count": 93,
   "metadata": {},
   "outputs": [
    {
     "data": {
      "text/html": [
       "<div>\n",
       "<style scoped>\n",
       "    .dataframe tbody tr th:only-of-type {\n",
       "        vertical-align: middle;\n",
       "    }\n",
       "\n",
       "    .dataframe tbody tr th {\n",
       "        vertical-align: top;\n",
       "    }\n",
       "\n",
       "    .dataframe thead th {\n",
       "        text-align: right;\n",
       "    }\n",
       "</style>\n",
       "<table border=\"1\" class=\"dataframe\">\n",
       "  <thead>\n",
       "    <tr style=\"text-align: right;\">\n",
       "      <th></th>\n",
       "      <th>Source</th>\n",
       "      <th>SS</th>\n",
       "      <th>DF</th>\n",
       "      <th>MS</th>\n",
       "      <th>F</th>\n",
       "      <th>p-unc</th>\n",
       "      <th>p-GG-corr</th>\n",
       "      <th>ng2</th>\n",
       "      <th>eps</th>\n",
       "      <th>sphericity</th>\n",
       "      <th>W-spher</th>\n",
       "      <th>p-spher</th>\n",
       "    </tr>\n",
       "  </thead>\n",
       "  <tbody>\n",
       "    <tr>\n",
       "      <th>0</th>\n",
       "      <td>method</td>\n",
       "      <td>352.608478</td>\n",
       "      <td>3</td>\n",
       "      <td>117.536159</td>\n",
       "      <td>6.819064</td>\n",
       "      <td>0.000333</td>\n",
       "      <td>0.003299</td>\n",
       "      <td>0.06216</td>\n",
       "      <td>0.58636</td>\n",
       "      <td>False</td>\n",
       "      <td>0.356374</td>\n",
       "      <td>0.000011</td>\n",
       "    </tr>\n",
       "    <tr>\n",
       "      <th>1</th>\n",
       "      <td>Error</td>\n",
       "      <td>1602.985729</td>\n",
       "      <td>93</td>\n",
       "      <td>17.236406</td>\n",
       "      <td>NaN</td>\n",
       "      <td>NaN</td>\n",
       "      <td>NaN</td>\n",
       "      <td>NaN</td>\n",
       "      <td>NaN</td>\n",
       "      <td>NaN</td>\n",
       "      <td>NaN</td>\n",
       "      <td>NaN</td>\n",
       "    </tr>\n",
       "  </tbody>\n",
       "</table>\n",
       "</div>"
      ],
      "text/plain": [
       "   Source           SS  DF          MS         F     p-unc  p-GG-corr  \\\n",
       "0  method   352.608478   3  117.536159  6.819064  0.000333   0.003299   \n",
       "1   Error  1602.985729  93   17.236406       NaN       NaN        NaN   \n",
       "\n",
       "       ng2      eps sphericity   W-spher   p-spher  \n",
       "0  0.06216  0.58636      False  0.356374  0.000011  \n",
       "1      NaN      NaN        NaN       NaN       NaN  "
      ]
     },
     "execution_count": 93,
     "metadata": {},
     "output_type": "execute_result"
    }
   ],
   "source": [
    "import pingouin as pg\n",
    "\n",
    "rmANOVA = pg.rm_anova(data=df, dv='snr', within='method',\n",
    "                      subject='identifier', detailed=True)\n",
    "rmANOVA"
   ]
  },
  {
   "cell_type": "code",
   "execution_count": 90,
   "metadata": {},
   "outputs": [
    {
     "data": {
      "text/html": [
       "<div>\n",
       "<style scoped>\n",
       "    .dataframe tbody tr th:only-of-type {\n",
       "        vertical-align: middle;\n",
       "    }\n",
       "\n",
       "    .dataframe tbody tr th {\n",
       "        vertical-align: top;\n",
       "    }\n",
       "\n",
       "    .dataframe thead th {\n",
       "        text-align: right;\n",
       "    }\n",
       "</style>\n",
       "<table border=\"1\" class=\"dataframe\">\n",
       "  <thead>\n",
       "    <tr style=\"text-align: right;\">\n",
       "      <th></th>\n",
       "      <th>identifier</th>\n",
       "      <th>method</th>\n",
       "      <th>snr</th>\n",
       "    </tr>\n",
       "  </thead>\n",
       "  <tbody>\n",
       "    <tr>\n",
       "      <th>0</th>\n",
       "      <td>phonemes_2027_20231218</td>\n",
       "      <td>pylossless</td>\n",
       "      <td>5.754663</td>\n",
       "    </tr>\n",
       "    <tr>\n",
       "      <th>1</th>\n",
       "      <td>phonemes_2043_20240328_114345</td>\n",
       "      <td>pylossless</td>\n",
       "      <td>13.137426</td>\n",
       "    </tr>\n",
       "    <tr>\n",
       "      <th>2</th>\n",
       "      <td>phonemes_2064_20240802_031713</td>\n",
       "      <td>pylossless</td>\n",
       "      <td>6.322542</td>\n",
       "    </tr>\n",
       "    <tr>\n",
       "      <th>3</th>\n",
       "      <td>phonemes_2033_20240117_043649</td>\n",
       "      <td>pylossless</td>\n",
       "      <td>4.749408</td>\n",
       "    </tr>\n",
       "    <tr>\n",
       "      <th>4</th>\n",
       "      <td>phonemes_2050_20240606_110702</td>\n",
       "      <td>pylossless</td>\n",
       "      <td>11.410212</td>\n",
       "    </tr>\n",
       "    <tr>\n",
       "      <th>...</th>\n",
       "      <td>...</td>\n",
       "      <td>...</td>\n",
       "      <td>...</td>\n",
       "    </tr>\n",
       "    <tr>\n",
       "      <th>123</th>\n",
       "      <td>phonemes_2029_20231221</td>\n",
       "      <td>pyPREP</td>\n",
       "      <td>20.177910</td>\n",
       "    </tr>\n",
       "    <tr>\n",
       "      <th>124</th>\n",
       "      <td>phonemes_2059_20240801_121559</td>\n",
       "      <td>pyPREP</td>\n",
       "      <td>13.173934</td>\n",
       "    </tr>\n",
       "    <tr>\n",
       "      <th>125</th>\n",
       "      <td>phonemes_2062_20240725_113431</td>\n",
       "      <td>pyPREP</td>\n",
       "      <td>18.113140</td>\n",
       "    </tr>\n",
       "    <tr>\n",
       "      <th>126</th>\n",
       "      <td>phonemes_2054_20240620_112330</td>\n",
       "      <td>pyPREP</td>\n",
       "      <td>9.816364</td>\n",
       "    </tr>\n",
       "    <tr>\n",
       "      <th>127</th>\n",
       "      <td>phonemes_2056_20240708_093753</td>\n",
       "      <td>pyPREP</td>\n",
       "      <td>21.984786</td>\n",
       "    </tr>\n",
       "  </tbody>\n",
       "</table>\n",
       "<p>128 rows × 3 columns</p>\n",
       "</div>"
      ],
      "text/plain": [
       "                        identifier      method        snr\n",
       "0           phonemes_2027_20231218  pylossless   5.754663\n",
       "1    phonemes_2043_20240328_114345  pylossless  13.137426\n",
       "2    phonemes_2064_20240802_031713  pylossless   6.322542\n",
       "3    phonemes_2033_20240117_043649  pylossless   4.749408\n",
       "4    phonemes_2050_20240606_110702  pylossless  11.410212\n",
       "..                             ...         ...        ...\n",
       "123         phonemes_2029_20231221      pyPREP  20.177910\n",
       "124  phonemes_2059_20240801_121559      pyPREP  13.173934\n",
       "125  phonemes_2062_20240725_113431      pyPREP  18.113140\n",
       "126  phonemes_2054_20240620_112330      pyPREP   9.816364\n",
       "127  phonemes_2056_20240708_093753      pyPREP  21.984786\n",
       "\n",
       "[128 rows x 3 columns]"
      ]
     },
     "execution_count": 90,
     "metadata": {},
     "output_type": "execute_result"
    }
   ],
   "source": [
    "df"
   ]
  },
  {
   "cell_type": "code",
   "execution_count": 94,
   "metadata": {},
   "outputs": [
    {
     "name": "stdout",
     "output_type": "stream",
     "text": [
      "  Contrast           A           B  Paired  Parametric         T   dof  \\\n",
      "0   method         QCR      pyPREP    True        True  3.533673  31.0   \n",
      "1   method         QCR  pylossless    True        True  1.944395  31.0   \n",
      "2   method         QCR         raw    True        True  2.301738  31.0   \n",
      "3   method      pyPREP  pylossless    True        True -2.770173  31.0   \n",
      "4   method      pyPREP         raw    True        True -2.531006  31.0   \n",
      "5   method  pylossless         raw    True        True  1.300689  31.0   \n",
      "\n",
      "  alternative     p-unc    p-corr p-adjust    BF10    hedges  \n",
      "0   two-sided  0.001309  0.007855     holm  25.664  0.666533  \n",
      "1   two-sided  0.060970  0.121940     holm   0.998  0.180678  \n",
      "2   two-sided  0.028232  0.084697     holm   1.853  0.415219  \n",
      "3   two-sided  0.009381  0.046905     holm   4.652 -0.475889  \n",
      "4   two-sided  0.016664  0.066654     holm   2.867 -0.279660  \n",
      "5   two-sided  0.202951  0.202951     holm   0.407  0.221520  \n"
     ]
    }
   ],
   "source": [
    "# pairwise comparisons\n",
    "pairwise_tests = pg.pairwise_tests(data=df, dv='snr', within='method',\n",
    "                                    subject='identifier',padjust='holm')\n",
    "print(pairwise_tests)"
   ]
  },
  {
   "cell_type": "code",
   "execution_count": 52,
   "metadata": {},
   "outputs": [
    {
     "name": "stdout",
     "output_type": "stream",
     "text": [
      "          comparison    t-stat   p-value  p-adjusted\n",
      "0         QCR vs raw  2.301738  0.028232    0.056464\n",
      "1      pyPREP vs raw -2.531006  0.016664    0.049991\n",
      "2  pylossless vs raw  1.300689  0.202951    0.202951\n"
     ]
    }
   ],
   "source": [
    "from statsmodels.stats.multitest import multipletests\n",
    "from itertools import combinations\n",
    "\n",
    "# Make sure your data is in long format:\n",
    "# columns: ['subject', 'processing_method', 'snr']\n",
    "\n",
    "# Pivot to wide format for paired comparisons\n",
    "df_wide = df.pivot(index='identifier', columns='method', values='snr')\n",
    "\n",
    "methods = df_wide.columns\n",
    "pairs = list(combinations(methods, 2))\n",
    "\n",
    "# Run paired t-tests\n",
    "results = []\n",
    "for m1, m2 in pairs:\n",
    "    if \"pyPREP\" in (m1, m2) and \"raw\" not in (m1, m2):\n",
    "        continue\n",
    "    elif \"QCR\" in (m1, m2) and \"pylossless\" in (m1, m2):\n",
    "        continue\n",
    "    tstat, pval = stats.ttest_rel(df_wide[m1], df_wide[m2])\n",
    "    results.append({\n",
    "        'comparison': f\"{m1} vs {m2}\",\n",
    "        't-stat': tstat,\n",
    "        'p-value': pval\n",
    "    })\n",
    "\n",
    "# Convert to DataFrame\n",
    "results_df = pd.DataFrame(results)\n",
    "\n",
    "# Correct p-values for multiple comparisons (e.g., Holm or Bonferroni)\n",
    "# Not using Bonferonni because it assumes the tests are independent (they are not)\n",
    "results_df['p-adjusted'] = multipletests(results_df['p-value'], method='holm')[1]\n",
    "\n",
    "print(results_df)"
   ]
  },
  {
   "cell_type": "code",
   "execution_count": 59,
   "metadata": {},
   "outputs": [
    {
     "data": {
      "text/plain": [
       "<Axes: xlabel='method', ylabel='snr'>"
      ]
     },
     "execution_count": 59,
     "metadata": {},
     "output_type": "execute_result"
    },
    {
     "data": {
      "image/png": "[encoded data removed]",
      "text/plain": [
       "<Figure size 640x480 with 1 Axes>"
      ]
     },
     "metadata": {},
     "output_type": "display_data"
    }
   ],
   "source": [
    "sns.boxplot(data=df, x=\"method\", y=\"snr\", hue=\"method\")"
   ]
  }
 ],
 "metadata": {
  "kernelspec": {
   "display_name": ".venv",
   "language": "python",
   "name": "python3"
  },
  "language_info": {
   "codemirror_mode": {
    "name": "ipython",
    "version": 3
   },
   "file_extension": ".py",
   "mimetype": "text/x-python",
   "name": "python",
   "nbconvert_exporter": "python",
   "pygments_lexer": "ipython3",
   "version": "3.10.17"
  }
 },
 "nbformat": 4,
 "nbformat_minor": 2
}
