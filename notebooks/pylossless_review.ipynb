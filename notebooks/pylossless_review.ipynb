{
 "cells": [
  {
   "cell_type": "markdown",
   "id": "4a2b8425-dff1-4020-b9f1-53762fa72236",
   "metadata": {},
   "source": [
    "# This Notebook is for reviewing Cleaned EEG files and making edits to them"
   ]
  },
  {
   "cell_type": "markdown",
   "id": "1e1322f0-01a4-4097-96bd-319ef1d24494",
   "metadata": {},
   "source": [
    "## Imports and Config settings"
   ]
  },
  {
   "cell_type": "code",
   "execution_count": null,
   "id": "1ac5e1cf-718e-4a59-b174-74f65cd20cd8",
   "metadata": {},
   "outputs": [],
   "source": [
    "import os\n",
    "from pathlib import Path\n",
    "\n",
    "import pandas as pd\n",
    "import mne\n",
    "\n",
    "from typing import Tuple"
   ]
  },
  {
   "cell_type": "code",
   "execution_count": null,
   "id": "17aaa92d-e353-4cee-ba11-703d80c3b8f7",
   "metadata": {},
   "outputs": [],
   "source": [
    "mne.viz.set_browser_backend(\"qt\")\n",
    "mne.set_log_level(\"WARNING\")"
   ]
  },
  {
   "cell_type": "code",
   "execution_count": null,
   "id": "b97d747b-9929-4022-842d-7e1051ee332a",
   "metadata": {},
   "outputs": [],
   "source": [
    "from typing import TypeAlias\n",
    "\n",
    "FileName: TypeAlias = str | bytes | os.PathLike"
   ]
  },
  {
   "cell_type": "markdown",
   "id": "69ae25df-1a5f-4a5e-920b-509609b95dee",
   "metadata": {},
   "source": [
    "## Load (Or Create) a Tracking Sheet"
   ]
  },
  {
   "cell_type": "code",
   "execution_count": null,
   "id": "6913e689-af6e-4c5a-84d2-2ac5ecc55b14",
   "metadata": {},
   "outputs": [],
   "source": [
    "QCR_FNAME = Path.cwd() / \"LISTEN-PHONEMES-EEG-QCR-Log.csv\"\n",
    "RECOMPUTE = False\n",
    "\n",
    "deriv_dir = Path(\"/Volumes/UBUNTU18/USC/listen/derivatives/pylossless/run-01\")\n",
    "assert deriv_dir.exists()\n",
    "\n",
    "QCR_DIR = Path(\"/Volumes/UBUNTU18/USC/listen/derivatives/QCR/run-01\")\n",
    "QCR_DIR.mkdir(exist_ok=True, parents=True)\n",
    "\n",
    "sub_dirs = [sub_dir for sub_dir in deriv_dir.iterdir() if sub_dir.is_dir()]\n",
    "\n",
    "if not QCR_FNAME.exists() or RECOMPUTE:\n",
    "    filepaths = sub_dirs\n",
    "    filenames = [fpath.name for fpath in filepaths]\n",
    "    df = pd.DataFrame({\"file\" : filenames, \"filepath\": filepaths})\n",
    "    df[\"status\"] = pd.NA\n",
    "    df[\"reviewer\"] = pd.NA\n",
    "    df[\"exclude\"] = pd.NA\n",
    "    df[\"notes\"] = pd.NA\n",
    "    df.to_csv(QCR_FNAME, index=False)\n",
    "# Load the sub_dirs from the CSV file\n",
    "qcr_df = pd.read_csv(QCR_FNAME)\n",
    "qcr_df.head()"
   ]
  },
  {
   "cell_type": "code",
   "execution_count": null,
   "id": "10ee1302-5481-48ae-bdff-35b87c56aa4d",
   "metadata": {},
   "outputs": [],
   "source": [
    "def qcr_iterator(qcr_df):\n",
    "    for idx, row in qcr_df.iterrows():\n",
    "        if pd.isnull(row[\"status\"]):\n",
    "            return row"
   ]
  },
  {
   "cell_type": "code",
   "execution_count": null,
   "id": "ab9633fb-4028-4834-abd0-a30c2b5b1139",
   "metadata": {},
   "outputs": [],
   "source": [
    "next_up: pd.DataFrame = qcr_iterator(qcr_df)\n",
    "next_up"
   ]
  },
  {
   "cell_type": "markdown",
   "id": "d33903bb-0450-4345-a9e1-94f80ec12c82",
   "metadata": {},
   "source": [
    "## Load the EEG Files"
   ]
  },
  {
   "cell_type": "code",
   "execution_count": null,
   "id": "d8227ac2-df46-42c0-8eba-d01a6e73e588",
   "metadata": {},
   "outputs": [],
   "source": [
    "def get_derivatives_fpaths(fpath: FileName) -> dict[str: FileName]:\n",
    "    fpath = Path(fpath)\n",
    "    fpaths_dict: dict = {}\n",
    "    \n",
    "    fpath_raw = list(fpath.glob(\"*_proc-cleaned_raw.fif\"))\n",
    "    fpath_ica = list(fpath.glob(\"*_proc-ica.fif\"))\n",
    "    fpath_iclabels = list(fpath.glob(\"*_iclabels.csv\"))\n",
    "    assert len(fpath_raw) == 1\n",
    "    assert len(fpath_ica) == 1\n",
    "    assert len(fpath_iclabels) == 1\n",
    "    return {\"raw\": fpath_raw[0], \"ica\": fpath_ica[0], \"ic_labels\": fpath_iclabels[0]}"
   ]
  },
  {
   "cell_type": "code",
   "execution_count": null,
   "id": "88dba157-3114-4120-b497-cdc836d2fd31",
   "metadata": {},
   "outputs": [],
   "source": [
    "fpaths = get_derivatives_fpaths(next_up[\"filepath\"])\n",
    "fpaths"
   ]
  },
  {
   "cell_type": "code",
   "execution_count": null,
   "id": "3c4c42c2-65c6-4149-9a2e-cb300ba29ce5",
   "metadata": {},
   "outputs": [],
   "source": [
    "def load_derivatives(fpath_dict: dict[str, FileName]) -> Tuple[mne.io.BaseRaw, mne.preprocessing.ICA, pd.DataFrame]:\n",
    "    raw = mne.io.read_raw_fif(fpath_dict[\"raw\"])\n",
    "    ica = mne.preprocessing.ica.read_ica(fpath_dict[\"ica\"])\n",
    "    ic_labels = pd.read_csv(fpath_dict[\"ic_labels\"])\n",
    "    return raw, ica, ic_labels"
   ]
  },
  {
   "cell_type": "code",
   "execution_count": null,
   "id": "ed59f9a6-2161-4412-b00f-5e4c00f46df0",
   "metadata": {},
   "outputs": [],
   "source": [
    "raw, ica, ic_labels = load_derivatives(fpaths)\n",
    "raw"
   ]
  },
  {
   "cell_type": "markdown",
   "id": "bc6f7611-4df6-4899-af74-b684572fccbe",
   "metadata": {},
   "source": [
    "## Review the EEG data"
   ]
  },
  {
   "cell_type": "code",
   "execution_count": null,
   "id": "0288712c-c249-40e4-8812-82c5c9736660",
   "metadata": {},
   "outputs": [],
   "source": [
    "fig = raw.plot_sensors(show_names=True, show=False)"
   ]
  },
  {
   "cell_type": "code",
   "execution_count": null,
   "id": "d4f8b66b-646b-4889-b99a-a44376c672d6",
   "metadata": {},
   "outputs": [],
   "source": [
    "raw.plot(theme=\"light\")"
   ]
  },
  {
   "cell_type": "code",
   "execution_count": null,
   "id": "3a37b005-a247-4da4-a613-d97858f2c6b6",
   "metadata": {},
   "outputs": [],
   "source": [
    "epochs = mne.make_fixed_length_epochs(raw, 2, preload=True)\n",
    "psd = epochs.set_eeg_reference(\"average\").compute_psd(fmin=2, fmax=50)\n",
    "del epochs\n",
    "fig = psd.plot(show=False)"
   ]
  },
  {
   "cell_type": "markdown",
   "id": "b81e2557-8edd-4bc9-831b-95e5c9d57f7d",
   "metadata": {},
   "source": [
    "## Update the tracking sheet with your notes about the Data"
   ]
  },
  {
   "cell_type": "code",
   "execution_count": null,
   "id": "cf5c0e77-383d-4ac2-9f67-4b28cb90d501",
   "metadata": {},
   "outputs": [],
   "source": [
    "def update_qcr(\n",
    "    row: pd.Series,\n",
    "    *,\n",
    "    status: str,\n",
    "    notes: str,\n",
    "    exclude: str,\n",
    "    reviewer: str = \"SH\",    \n",
    ") -> pd.DataFrame:\n",
    "    row_idx = row.name\n",
    "    qcr_df.astype({\"status\": \"object\", \"notes\": \"object\"})\n",
    "    qcr_df.at[row_idx, \"status\"] = status\n",
    "    qcr_df.at[row_idx, \"notes\"] = notes\n",
    "    qcr_df.at[row_idx, \"exclude\"] = exclude\n",
    "    qcr_df.at[row_idx, \"reviewer\"] = reviewer\n",
    "    qcr_df.to_csv(QCR_FNAME, index=False)\n",
    "    return pd.read_csv(QCR_FNAME)"
   ]
  },
  {
   "cell_type": "code",
   "execution_count": null,
   "id": "bcf43e5a-c166-4787-b211-15d6001926a8",
   "metadata": {},
   "outputs": [],
   "source": [
    "qcr_df = update_qcr(\n",
    "    next_up,\n",
    "    status=\"Done.\",\n",
    "    notes=\"Mostly bad. Except very end\",\n",
    "    exclude=False,\n",
    ")\n",
    "qcr_df.head()"
   ]
  },
  {
   "cell_type": "markdown",
   "id": "10c7e906-740f-4fbd-92d5-df7a67f970bf",
   "metadata": {},
   "source": [
    "## Save the edited EEG file"
   ]
  },
  {
   "cell_type": "code",
   "execution_count": null,
   "id": "8add7b20-0c16-4a98-ab01-011230268782",
   "metadata": {},
   "outputs": [],
   "source": [
    "def save_qcr_raw(raw: mne.io.BaseRaw) -> FileName:\n",
    "    fpath: FileName = raw.filenames[0]\n",
    "    sub_dir = fpath.parent.name\n",
    "    fname = fpath.name\n",
    "    out_dir = QCR_DIR / sub_dir\n",
    "    assert QCR_DIR.exists()\n",
    "    out_dir.mkdir(exist_ok=True)\n",
    "    out_fpath = out_dir / fname\n",
    "    raw.save(out_fpath)\n",
    "    return out_fpath"
   ]
  },
  {
   "cell_type": "code",
   "execution_count": null,
   "id": "c57d783d-9f89-4328-b5f6-a7078b21a253",
   "metadata": {},
   "outputs": [],
   "source": [
    "save_qcr_raw(raw)"
   ]
  },
  {
   "cell_type": "code",
   "execution_count": null,
   "id": "4dfbc9ca-710e-4224-a9d6-3414d69791cf",
   "metadata": {},
   "outputs": [],
   "source": []
  }
 ],
 "metadata": {
  "kernelspec": {
   "display_name": "Python 3 (ipykernel)",
   "language": "python",
   "name": "python3"
  },
  "language_info": {
   "codemirror_mode": {
    "name": "ipython",
    "version": 3
   },
   "file_extension": ".py",
   "mimetype": "text/x-python",
   "name": "python",
   "nbconvert_exporter": "python",
   "pygments_lexer": "ipython3",
   "version": "3.10.16"
  }
 },
 "nbformat": 4,
 "nbformat_minor": 5
}
